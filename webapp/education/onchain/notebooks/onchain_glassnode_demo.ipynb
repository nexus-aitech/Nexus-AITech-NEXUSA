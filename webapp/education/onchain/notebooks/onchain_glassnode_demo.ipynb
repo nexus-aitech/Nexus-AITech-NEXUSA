{
 "cells": [
  {
   "cell_type": "markdown",
   "id": "688c21dc",
   "metadata": {},
   "source": [
    "\n",
    "# Demo: اتصال به داده‌ی آنچین (Glassnode-like) + شبیه‌سازی در نبود اینترنت\n",
    "\n",
    "> این نوت‌بوک نشان می‌دهد چگونه به یک API آنچین متصل شوید و اگر اینترنت/کلید API در دسترس نبود، با داده‌ی ساختگی روندها را تمرین کنید.\n"
   ]
  },
  {
   "cell_type": "code",
   "execution_count": null,
   "id": "5c24a119",
   "metadata": {},
   "outputs": [],
   "source": [
    "# تنظیمات اولیه\n",
    "import os, math, json, random, datetime as dt\n",
    "import pandas as pd\n",
    "import numpy as np\n",
    "import matplotlib.pyplot as plt\n",
    "\n",
    "ASSET = \"BTC\"  # یا 'ETH', ...\n",
    "START = dt.date.today() - dt.timedelta(days=365)\n",
    "DATES = pd.date_range(START, periods=365, freq=\"D\")\n",
    "\n",
    "# حالت شبیه‌سازی (بدون اینترنت)\n",
    "np.random.seed(42)\n",
    "price = pd.Series(20000 + np.cumsum(np.random.randn(len(DATES))*50), index=DATES)\n",
    "tx_volume_usd = pd.Series(1e9 + np.cumsum(np.random.randn(len(DATES))*1e7), index=DATES).abs()\n",
    "active_addresses = pd.Series(700000 + np.random.randn(len(DATES))*20000, index=DATES).abs()\n",
    "supply = 19_600_000  # تقریب\n",
    "market_cap = price * supply\n",
    "nvt = (market_cap / tx_volume_usd).rolling(14).mean()\n",
    "\n",
    "# SOPR شبیه‌سازی‌شده (نزدیک 1 با نوسان اندک)\n",
    "sopr = pd.Series(1 + np.random.randn(len(DATES))*0.02, index=DATES)\n",
    "\n",
    "# Netflow صرافی‌ها (کوین/روز)\n",
    "netflow = pd.Series(np.random.randn(len(DATES))*5000, index=DATES)\n",
    "\n",
    "df = pd.DataFrame({\n",
    "    \"price\": price,\n",
    "    \"tx_volume_usd\": tx_volume_usd,\n",
    "    \"active_addresses\": active_addresses,\n",
    "    \"market_cap\": market_cap,\n",
    "    \"nvt\": nvt,\n",
    "    \"sopr\": sopr,\n",
    "    \"exchange_netflow\": netflow\n",
    "})\n",
    "df.head()\n"
   ]
  },
  {
   "cell_type": "markdown",
   "id": "ac7c154e",
   "metadata": {},
   "source": [
    "\n",
    "## ترسیم سری‌های اصلی\n",
    "> توجه: برای رسم نمودارها از matplotlib استفاده شده و استایل/رنگ خاصی تعیین نشده است.\n"
   ]
  },
  {
   "cell_type": "code",
   "execution_count": null,
   "id": "4b8cbc4a",
   "metadata": {},
   "outputs": [],
   "source": [
    "# قیمت\n",
    "plt.figure()\n",
    "df[\"price\"].plot(title=\"Price (simulated)\")\n",
    "plt.show()\n",
    "\n",
    "# NVT\n",
    "plt.figure()\n",
    "df[\"nvt\"].plot(title=\"NVT (14D MA, simulated)\")\n",
    "plt.show()\n",
    "\n",
    "# SOPR\n",
    "plt.figure()\n",
    "df[\"sopr\"].plot(title=\"SOPR (simulated)\")\n",
    "plt.axhline(1.0)\n",
    "plt.show()\n",
    "\n",
    "# Exchange Netflow\n",
    "plt.figure()\n",
    "df[\"exchange_netflow\"].plot(title=\"Exchange Netflow (simulated)\")\n",
    "plt.axhline(0.0)\n",
    "plt.show()\n"
   ]
  },
  {
   "cell_type": "markdown",
   "id": "6703d2c0",
   "metadata": {},
   "source": [
    "\n",
    "## اتصال واقعی به API (قالب کد — اجرا فقط با اینترنت/کلید)\n",
    "> این بخش نمونه‌کد است و در این محیط اجرا نمی‌شود.\n"
   ]
  },
  {
   "cell_type": "code",
   "execution_count": null,
   "id": "88cd1fb7",
   "metadata": {},
   "outputs": [],
   "source": [
    "# قالب فراخوانی API (نمونه نمایشی؛ آدرس‌ها را با مستندات سرویس واقعی تطبیق دهید)\n",
    "# import requests\n",
    "# API_KEY = os.getenv(\"GLASSNODE_API_KEY\")\n",
    "# headers = {\"X-Api-Key\": API_KEY}\n",
    "# url = \"https://api.glassnode.com/v1/metrics/addresses/active_count\"\n",
    "# params = {\"a\": ASSET, \"i\": \"24h\", \"s\": int(pd.Timestamp(START).timestamp())}\n",
    "# r = requests.get(url, headers=headers, params=params, timeout=30)\n",
    "# data = r.json()\n",
    "# df_api = pd.DataFrame(data)\n",
    "# df_api[\"t\"] = pd.to_datetime(df_api[\"t\"], unit=\"s\")\n",
    "# df_api = df_api.set_index(\"t\").rename(columns={\"v\": \"active_addresses\"})\n",
    "# df_api.head()\n"
   ]
  },
  {
   "cell_type": "markdown",
   "id": "67c3d3b6",
   "metadata": {},
   "source": [
    "\n",
    "## سیگنال‌های ساده\n",
    "- **SOPR < 1** به‌صورت پایدار → فشار فروش؛ احتمال کف‌سازی.\n",
    "- **NVT بالا** نسبت به تاریخچه → ارزش‌گذاری کش‌آمده/خطر اصلاح.\n",
    "- **Exchange Netflow مثبت بزرگ** → افزایش احتمالی عرضه‌ی فروش.\n"
   ]
  },
  {
   "cell_type": "code",
   "execution_count": null,
   "id": "1743d6e8",
   "metadata": {},
   "outputs": [],
   "source": [
    "signals = {}\n",
    "signals[\"sopr_below_1_days\"] = int((df[\"sopr\"] < 1.0).tail(14).sum())\n",
    "signals[\"nvt_percentile_90\"] = float(df[\"nvt\"].dropna().quantile(0.9))\n",
    "signals[\"nvt_is_high\"] = bool(df[\"nvt\"].iloc[-1] > signals[\"nvt_percentile_90\"])\n",
    "signals[\"netflow_extreme\"] = bool(abs(df[\"exchange_netflow\"].iloc[-1]) > df[\"exchange_netflow\"].std()*2)\n",
    "\n",
    "signals\n"
   ]
  },
  {
   "cell_type": "markdown",
   "id": "6d5f79f4",
   "metadata": {},
   "source": [
    "\n",
    "## نکات عملیاتی\n",
    "- برچسب صرافی‌ها را از چند منبع متقاطع کنید.\n",
    "- نرمال‌سازی مقادیر با موجودی صرافی/مارکت‌کپ.\n",
    "- ثبت عدم قطعیت در گزارش‌ها (±).\n"
   ]
  }
 ],
 "metadata": {},
 "nbformat": 4,
 "nbformat_minor": 5
}
