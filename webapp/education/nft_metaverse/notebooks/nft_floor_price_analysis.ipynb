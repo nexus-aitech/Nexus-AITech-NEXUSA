{
 "cells": [
  {
   "cell_type": "markdown",
   "id": "17bff88c",
   "metadata": {},
   "source": [
    "\n",
    "# تحلیل قیمت کف کلکسیون‌های NFT\n",
    "\n",
    "> این نوت‌بوک یک الگو برای بررسی روند قیمت کف مجموعه‌های NFT است.\n"
   ]
  },
  {
   "cell_type": "code",
   "execution_count": null,
   "id": "7ab401ff",
   "metadata": {},
   "outputs": [],
   "source": [
    "import pandas as pd, numpy as np, matplotlib.pyplot as plt\n",
    "import datetime as dt\n",
    "\n",
    "# شبیه‌سازی داده قیمت کف برای BAYC\n",
    "dates = pd.date_range(\"2022-01-01\", periods=365, freq=\"D\")\n",
    "np.random.seed(42)\n",
    "floor_price = pd.Series(50 + np.cumsum(np.random.randn(len(dates))*0.2), index=dates).abs()\n",
    "\n",
    "df = pd.DataFrame({\"floor_price_eth\": floor_price})\n",
    "df.head()\n"
   ]
  },
  {
   "cell_type": "markdown",
   "id": "aaed917f",
   "metadata": {},
   "source": [
    "\n",
    "## ترسیم روند قیمت کف\n"
   ]
  },
  {
   "cell_type": "code",
   "execution_count": null,
   "id": "18f67a52",
   "metadata": {},
   "outputs": [],
   "source": [
    "plt.figure()\n",
    "df[\"floor_price_eth\"].plot(title=\"BAYC Floor Price (ETH, simulated)\")\n",
    "plt.show()\n"
   ]
  },
  {
   "cell_type": "markdown",
   "id": "ee0e60a4",
   "metadata": {},
   "source": [
    "\n",
    "## تحلیل ساده\n",
    "- نوسان قیمت کف → شاخص نقدینگی و تقاضا.\n",
    "- می‌توان میانگین متحرک، انحراف معیار و حجم معاملات را اضافه کرد.\n"
   ]
  },
  {
   "cell_type": "code",
   "execution_count": null,
   "id": "bdf54b6c",
   "metadata": {},
   "outputs": [],
   "source": [
    "df[\"ma30\"] = df[\"floor_price_eth\"].rolling(30).mean()\n",
    "df[\"volatility\"] = df[\"floor_price_eth\"].rolling(30).std()\n",
    "\n",
    "plt.figure()\n",
    "df[[\"floor_price_eth\", \"ma30\"]].plot(title=\"Floor Price with 30D MA\")\n",
    "plt.show()\n",
    "\n",
    "df.tail()\n"
   ]
  },
  {
   "cell_type": "markdown",
   "id": "66bb73e6",
   "metadata": {},
   "source": [
    "\n",
    "## گسترش آینده\n",
    "- اتصال به API بازار (OpenSea, Blur).\n",
    "- بررسی حجم معاملات همراه با کف قیمتی.\n",
    "- مقایسه چند کلکسیون.\n"
   ]
  }
 ],
 "metadata": {},
 "nbformat": 4,
 "nbformat_minor": 5
}
