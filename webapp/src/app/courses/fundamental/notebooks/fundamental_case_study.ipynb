{
 "cells": [
  {
   "cell_type": "markdown",
   "id": "08986e5c",
   "metadata": {},
   "source": [
    "\n",
    "# Case Study: AAVE — چارچوب تحلیل فاندامنتال\n",
    "\n",
    "> این نوت‌بوک یک الگوی اجرایی است تا بتوانید پروژه‌های مختلف را با ورودی‌های شفاف تحلیل کنید. هیچ‌کدام از اعداد پیش‌فرض «سیگنال» یا «عدد قطعی» نیستند.\n"
   ]
  },
  {
   "cell_type": "code",
   "execution_count": null,
   "id": "5a4c1920",
   "metadata": {},
   "outputs": [],
   "source": [
    "# وارد کردن کتابخانه‌ها\n",
    "import os, yaml, math\n",
    "from dataclasses import dataclass, asdict\n",
    "from typing import Dict, Any\n",
    "\n",
    "DATASET_PATH = \"../datasets/project_profiles.yaml\"\n",
    "\n",
    "with open(DATASET_PATH, \"r\", encoding=\"utf-8\") as f:\n",
    "    data = yaml.safe_load(f)\n",
    "\n",
    "projects = {p[\"id\"]: p for p in data[\"projects\"]}\n",
    "list(projects.keys()), projects.get(\"aave\", {})[\"name\"]\n"
   ]
  },
  {
   "cell_type": "markdown",
   "id": "d6c795e6",
   "metadata": {},
   "source": [
    "\n",
    "## 1) بارگذاری پروفایل پروژه\n"
   ]
  },
  {
   "cell_type": "code",
   "execution_count": null,
   "id": "16ad2d73",
   "metadata": {},
   "outputs": [],
   "source": [
    "project_id = \"aave\"  # می‌توانید این را به پروژه‌ی دیگری تغییر دهید (پس از افزودن به YAML)\n",
    "project = projects[project_id]\n",
    "project\n"
   ]
  },
  {
   "cell_type": "markdown",
   "id": "ae74cfe7",
   "metadata": {},
   "source": [
    "\n",
    "## 2) چارچوب امتیازدهی — وزن‌ها\n",
    "وزن‌های نمونه برای سه لایه‌ی اصلی.\n"
   ]
  },
  {
   "cell_type": "code",
   "execution_count": null,
   "id": "7502c8e4",
   "metadata": {},
   "outputs": [],
   "source": [
    "weights = {\n",
    "    \"tokenomics\": 0.4,\n",
    "    \"team_investors\": 0.3,\n",
    "    \"usecase_valuation\": 0.3,\n",
    "}\n",
    "sum(weights.values())\n"
   ]
  },
  {
   "cell_type": "markdown",
   "id": "58fa957d",
   "metadata": {},
   "source": [
    "\n",
    "## 3) امتیازدهی مؤلفه‌ها\n",
    "امتیازها را با تکیه بر شواهد/داده و چک‌لیست‌های ماژول‌ها تعیین کنید.\n"
   ]
  },
  {
   "cell_type": "code",
   "execution_count": null,
   "id": "d031e1b3",
   "metadata": {},
   "outputs": [],
   "source": [
    "scores = {\n",
    "    \"tokenomics\": 75,       # TODO: با تحلیل واقعی جایگزین شود\n",
    "    \"team_investors\": 80,   # TODO\n",
    "    \"usecase_valuation\": 70 # TODO\n",
    "}\n",
    "\n",
    "final_score = sum(scores[k] * weights[k] for k in weights)\n",
    "final_score\n"
   ]
  },
  {
   "cell_type": "markdown",
   "id": "26b83908",
   "metadata": {},
   "source": [
    "\n",
    "## 4) مدل‌سازی ارزش — قالب ساده‌ی سناریو\n",
    "این بخش صرفاً الگوست. ورودی‌ها را با داده‌های خودتان جایگزین کنید.\n"
   ]
  },
  {
   "cell_type": "code",
   "execution_count": null,
   "id": "6c76dc25",
   "metadata": {},
   "outputs": [],
   "source": [
    "@dataclass\n",
    "class Scenario:\n",
    "    name: str\n",
    "    annual_protocol_fees: float     # درآمد سالانه پروتکل (به دلار)\n",
    "    tokenholder_share: float        # سهمی که به توکن می‌رسد (۰..۱)\n",
    "    discount_rate: float            # نرخ تنزیل (۰..۱)\n",
    "    growth_years: int               # افق رشد (سال)\n",
    "    terminal_growth: float          # رشد بلندمدت (۰..۱)\n",
    "    effective_supply: float         # عرضه‌ی موثر توکن (تعداد)\n",
    "\n",
    "def dcf_value(s: Scenario):\n",
    "    # مدل DCF ساده با رشد تا افق و سپس رشد نهایی\n",
    "    cf0 = s.annual_protocol_fees * s.tokenholder_share\n",
    "    pv = 0.0\n",
    "    for t in range(1, s.growth_years + 1):\n",
    "        cft = cf0 * ((1 + s.terminal_growth) ** (t-1))\n",
    "        pv += cft / ((1 + s.discount_rate) ** t)\n",
    "    # ارزش ادامه (Gordon Growth) در انتهای سال growth_years\n",
    "    cfn = cf0 * ((1 + s.terminal_growth) ** s.growth_years)\n",
    "    terminal_value = cfn * (1 + s.terminal_growth) / (s.discount_rate - s.terminal_growth)\n",
    "    pv += terminal_value / ((1 + s.discount_rate) ** s.growth_years)\n",
    "    token_fair_price = pv / s.effective_supply\n",
    "    return {\"PV\": pv, \"token_fair_price\": token_fair_price}\n",
    "\n",
    "scenarios = [\n",
    "    Scenario(\"بدبینانه\", annual_protocol_fees=50_000_000, tokenholder_share=0.1, discount_rate=0.25, growth_years=5, terminal_growth=0.02, effective_supply=16_000_000),\n",
    "    Scenario(\"پایه\",     annual_protocol_fees=120_000_000, tokenholder_share=0.15, discount_rate=0.22, growth_years=5, terminal_growth=0.02, effective_supply=16_000_000),\n",
    "    Scenario(\"خوش‌بینانه\", annual_protocol_fees=250_000_000, tokenholder_share=0.2, discount_rate=0.20, growth_years=5, terminal_growth=0.02, effective_supply=16_000_000),\n",
    "]\n",
    "\n",
    "results = {s.name: dcf_value(s) for s in scenarios}\n",
    "results\n"
   ]
  },
  {
   "cell_type": "markdown",
   "id": "17d39c12",
   "metadata": {},
   "source": [
    "\n",
    "## 5) حساسیت‌سنجی کوتاه\n"
   ]
  },
  {
   "cell_type": "code",
   "execution_count": null,
   "id": "b708aa2d",
   "metadata": {},
   "outputs": [],
   "source": [
    "def sensitivity(annual_protocol_fees_list, tokenholder_share_list, effective_supply=16_000_000):\n",
    "    table = []\n",
    "    for f in annual_protocol_fees_list:\n",
    "        for sh in tokenholder_share_list:\n",
    "            s = Scenario(\"sens\", f, sh, 0.22, 5, 0.02, effective_supply)\n",
    "            out = dcf_value(s)\n",
    "            table.append({\n",
    "                \"fees\": f,\n",
    "                \"share\": sh,\n",
    "                \"fair_price\": out[\"token_fair_price\"]\n",
    "            })\n",
    "    return table\n",
    "\n",
    "sens_table = sensitivity(\n",
    "    annual_protocol_fees_list=[60_000_000, 120_000_000, 200_000_000],\n",
    "    tokenholder_share_list=[0.1, 0.15, 0.2]\n",
    ")\n",
    "sens_table[:5]\n"
   ]
  },
  {
   "cell_type": "markdown",
   "id": "a9ef46e8",
   "metadata": {},
   "source": [
    "\n",
    "## 6) خروجی نهایی\n"
   ]
  },
  {
   "cell_type": "code",
   "execution_count": null,
   "id": "e77155de",
   "metadata": {},
   "outputs": [],
   "source": [
    "output = {\n",
    "    \"project\": project[\"name\"],\n",
    "    \"scores\": scores,\n",
    "    \"weights\": weights,\n",
    "    \"final_score\": final_score,\n",
    "    \"dcf_results\": results,\n",
    "    \"timestamp\": str(__import__(\"datetime\").datetime.utcnow())\n",
    "}\n",
    "output\n"
   ]
  }
 ],
 "metadata": {},
 "nbformat": 4,
 "nbformat_minor": 5
}
