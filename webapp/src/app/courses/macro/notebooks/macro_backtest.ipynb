{
 "cells": [
  {
   "cell_type": "markdown",
   "id": "6c4ee5b2",
   "metadata": {},
   "source": [
    "\n",
    "# Demo Backtest: اثر شاخص CPI روی قیمت بیت‌کوین\n",
    "\n",
    "> هدف: نشان دادن رویکرد اولیه‌ی آزمون رابطه‌ی بین تورم (CPI) و بازده BTC.\n"
   ]
  },
  {
   "cell_type": "code",
   "execution_count": null,
   "id": "655ad62a",
   "metadata": {},
   "outputs": [],
   "source": [
    "# شبیه‌سازی داده‌ها (بدون اتصال واقعی به FRED)\n",
    "import pandas as pd, numpy as np, matplotlib.pyplot as plt\n",
    "import datetime as dt\n",
    "\n",
    "np.random.seed(42)\n",
    "dates = pd.date_range(\"2020-01-01\", periods=48, freq=\"M\")\n",
    "\n",
    "# CPI YoY شبیه‌سازی‌شده (%)\n",
    "cpi_yoy = pd.Series(2 + np.random.randn(len(dates))*0.5, index=dates).abs()\n",
    "\n",
    "# قیمت BTC شبیه‌سازی‌شده\n",
    "btc_price = pd.Series(8000 + np.cumsum(np.random.randn(len(dates))*1000), index=dates).abs()\n",
    "\n",
    "df = pd.DataFrame({\"cpi_yoy\": cpi_yoy, \"btc_price\": btc_price})\n",
    "df[\"btc_return\"] = df[\"btc_price\"].pct_change()\n",
    "\n",
    "df.head()\n"
   ]
  },
  {
   "cell_type": "markdown",
   "id": "77c0f802",
   "metadata": {},
   "source": [
    "\n",
    "## تحلیل همبستگی\n"
   ]
  },
  {
   "cell_type": "code",
   "execution_count": null,
   "id": "100c347e",
   "metadata": {},
   "outputs": [],
   "source": [
    "corr = df[\"cpi_yoy\"].corr(df[\"btc_return\"])\n",
    "corr\n"
   ]
  },
  {
   "cell_type": "markdown",
   "id": "95acba9e",
   "metadata": {},
   "source": [
    "\n",
    "## ترسیم سری‌ها\n"
   ]
  },
  {
   "cell_type": "code",
   "execution_count": null,
   "id": "e36d8048",
   "metadata": {},
   "outputs": [],
   "source": [
    "plt.figure()\n",
    "df[\"cpi_yoy\"].plot(title=\"CPI YoY (simulated)\")\n",
    "plt.show()\n",
    "\n",
    "plt.figure()\n",
    "df[\"btc_price\"].plot(title=\"BTC Price (simulated)\")\n",
    "plt.show()\n"
   ]
  },
  {
   "cell_type": "markdown",
   "id": "4c7a1ebe",
   "metadata": {},
   "source": [
    "\n",
    "## بک‌تست ساده: استراتژی شرطی بر CPI\n",
    "- اگر CPI YoY > 3% → از BTC خارج شو (ریسک بالاتر).\n",
    "- در غیر این صورت → سرمایه‌گذاری در BTC.\n"
   ]
  },
  {
   "cell_type": "code",
   "execution_count": null,
   "id": "96f1657e",
   "metadata": {},
   "outputs": [],
   "source": [
    "signal = df[\"cpi_yoy\"] <= 3\n",
    "df[\"strategy_return\"] = df[\"btc_return\"] * signal.shift(1).fillna(False)\n",
    "\n",
    "cum_btc = (1 + df[\"btc_return\"].fillna(0)).cumprod()\n",
    "cum_strategy = (1 + df[\"strategy_return\"].fillna(0)).cumprod()\n",
    "\n",
    "plt.figure()\n",
    "cum_btc.plot(label=\"Buy & Hold BTC\")\n",
    "cum_strategy.plot(label=\"CPI-based Strategy\")\n",
    "plt.legend()\n",
    "plt.title(\"Backtest (simulated)\")\n",
    "plt.show()\n"
   ]
  },
  {
   "cell_type": "markdown",
   "id": "ac5bef90",
   "metadata": {},
   "source": [
    "\n",
    "## نکات عملیاتی\n",
    "- داده‌ی واقعی CPI از FRED (سری CPIAUCSL) و BTC از صرافی‌ها/aggregators بارگیری شود.\n",
    "- تست‌های جدی نیازمند lag consideration، out-of-sample، و مقایسه با benchmark است.\n"
   ]
  }
 ],
 "metadata": {},
 "nbformat": 4,
 "nbformat_minor": 5
}
